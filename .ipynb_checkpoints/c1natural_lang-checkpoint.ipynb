{
 "cells": [
  {
   "cell_type": "code",
   "execution_count": 1,
   "metadata": {},
   "outputs": [],
   "source": [
    "import tensorflow as tf\n",
    "from tensorflow import keras\n",
    "from tensorflow.keras.preprocessing.text import Tokenizer"
   ]
  },
  {
   "cell_type": "code",
   "execution_count": 6,
   "metadata": {},
   "outputs": [
    {
     "name": "stdout",
     "output_type": "stream",
     "text": [
      "{'my': 1, 'love': 2, 'dog': 3, 'i': 4, 'you': 5, 'cat': 6, 'do': 7, 'think': 8, 'is': 9, 'amazing': 10}\n",
      "[[4, 2, 1, 3], [4, 2, 1, 6], [5, 2, 1, 3], [7, 5, 8, 1, 3, 9, 10]]\n"
     ]
    }
   ],
   "source": [
    "sentences= ['I love my dog', 'I love my cat', 'You love my dog!', 'Do you think my dog is amazing?']\n",
    "tokenizer= Tokenizer(num_words=100)\n",
    "tokenizer.fit_on_texts(sentences)\n",
    "#word_index attribute returns dictionary where key is the unique word and value is the\n",
    "#token for that word. Tokenizer strips punctuation out! eg: 'dog!' and 'dog' are treated as same word\n",
    "word_index= tokenizer.word_index\n",
    "#getting encoded code for sentences\n",
    "sequences= tokenizer.texts_to_sequences(sentences)\n",
    "print(word_index)\n",
    "print(sequences)"
   ]
  },
  {
   "cell_type": "code",
   "execution_count": 8,
   "metadata": {},
   "outputs": [
    {
     "name": "stdout",
     "output_type": "stream",
     "text": [
      "[[4, 2, 1, 3], [1, 3, 1]]\n"
     ]
    }
   ],
   "source": [
    "test_data= ['i really love my dog', 'my dog loves my boyfriend']\n",
    "#getting encoded token value form for test sentences above\n",
    "test_seq= tokenizer.texts_to_sequences(test_data)\n",
    "#result---> it ignores the words it hadn't seen before like-('really', 'loves', ;boyfriend')\n",
    "print(test_seq)\n",
    "#so instead of ignoring, put a special value whenever any unknown word is encountered. \n"
   ]
  },
  {
   "cell_type": "code",
   "execution_count": 13,
   "metadata": {},
   "outputs": [
    {
     "name": "stdout",
     "output_type": "stream",
     "text": [
      "{'<OOV>': 1, 'my': 2, 'love': 3, 'dog': 4, 'i': 5, 'you': 6, 'cat': 7, 'do': 8, 'think': 9, 'is': 10, 'amazing': 11}\n",
      "[[5, 3, 2, 4], [5, 3, 2, 7], [6, 3, 2, 4], [8, 6, 9, 2, 4, 10, 11]]\n",
      "[[ 0  0  0  5  3  2  4]\n",
      " [ 0  0  0  5  3  2  7]\n",
      " [ 0  0  0  6  3  2  4]\n",
      " [ 8  6  9  2  4 10 11]]\n",
      "[[ 5  3  2  4  0  0  0]\n",
      " [ 5  3  2  7  0  0  0]\n",
      " [ 6  3  2  4  0  0  0]\n",
      " [ 8  6  9  2  4 10 11]]\n"
     ]
    }
   ],
   "source": [
    "from tensorflow.keras.preprocessing.sequence import pad_sequences\n",
    "#updated:- add the property oov_token to Tokenizer constructor. use the word OOV for words\n",
    "# that are not in the word_index provided to it \n",
    "tokenizer= Tokenizer(num_words=100, oov_token= '<OOV>')\n",
    "tokenizer.fit_on_texts(sentences)\n",
    "word_index= tokenizer.word_index\n",
    "#getting encoded code for sentences\n",
    "sequences= tokenizer.texts_to_sequences(sentences)\n",
    "print(word_index)\n",
    "print(sequences)\n",
    "\n",
    "\n",
    "#input size feeded to NN should be uniform. For that PADDING is done!\n",
    "#list of sentences have been padded out into sentences\n",
    "\n",
    "padded= pad_sequences(sequences)\n",
    "print(padded)\n",
    "#for padding after the sentences\n",
    "padded= pad_sequences(sequences, padding='post')\n",
    "print(padded)\n",
    "#matrix width = length of longest sentence. you can overwrite that with 'maxlen' parameter\n",
    "#eg:- if you want your sentences to have only 5 words then maxlen=5. it truncates from beginning (pre)\n",
    "#you can change that to 'post' to truncate the words from last\n",
    "padded= pad_sequences(sequences, padding='post', truncating='post', maxlen=5)\n",
    "print(padded)"
   ]
  },
  {
   "cell_type": "code",
   "execution_count": 10,
   "metadata": {},
   "outputs": [
    {
     "name": "stdout",
     "output_type": "stream",
     "text": [
      "[[5, 1, 3, 2, 4], [2, 4, 1, 2, 1]]\n"
     ]
    }
   ],
   "source": [
    "test_data= ['i really love my dog', 'my dog loves my boyfriend']\n",
    "#getting encoded token value form for test sentences above\n",
    "test_seq= tokenizer.texts_to_sequences(test_data)\n",
    "#result---> it ignores the words it hadn't seen before like-('really', 'loves', ;boyfriend')\n",
    "print(test_seq)"
   ]
  }
 ],
 "metadata": {
  "kernelspec": {
   "display_name": "Python 3",
   "language": "python",
   "name": "python3"
  },
  "language_info": {
   "codemirror_mode": {
    "name": "ipython",
    "version": 3
   },
   "file_extension": ".py",
   "mimetype": "text/x-python",
   "name": "python",
   "nbconvert_exporter": "python",
   "pygments_lexer": "ipython3",
   "version": "3.6.9"
  }
 },
 "nbformat": 4,
 "nbformat_minor": 2
}
